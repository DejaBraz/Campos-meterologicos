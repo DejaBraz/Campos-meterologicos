{
 "cells": [
  {
   "cell_type": "code",
   "execution_count": null,
   "id": "7c7892d5",
   "metadata": {},
   "outputs": [],
   "source": [
    "#-------------------------------------------------------------------------------------------------------\n",
    "# Salva dados netcdf e grib em csv\n",
    "# \n",
    "# Autora: Dejanira F Braz\n",
    "#-------------------------------------------------------------------------------------------------------\n",
    "#Bibliotecas\n",
    "from netCDF4 import Dataset\n",
    "import numpy as np\n",
    "import pandas as pd \n",
    "import pygrib\n",
    "import xarray as xr"
   ]
  },
  {
   "cell_type": "code",
   "execution_count": null,
   "id": "5a178b6d",
   "metadata": {},
   "outputs": [],
   "source": [
    "# Abre arquivos grib\n",
    "\n",
    "grib = pygrib.open(\"C:/Users/Deja/Documents/Output/gfs.t00z.pgrb2.0p50.f000\")\n"
   ]
  },
  {
   "cell_type": "code",
   "execution_count": null,
   "id": "a003de88",
   "metadata": {},
   "outputs": [],
   "source": [
    "# Select the variable\n",
    "grb = grib.select(name='2 metre temperature')[0]\n",
    "\n",
    "# Get information from the file    \n",
    "init  = str(grb.analDate)      # Init date / time\n",
    "run   = str(grb.hour).zfill(2) # Run\n",
    "ftime = str(grb.forecastTime)  # Forecast hour\n",
    "valid = str(grb.validDate)     # Valid date / time \n",
    "print('Init: ' + init + ' UTC')\n",
    "print('Run: ' + run + 'Z')\n",
    "print('Forecast: +' + ftime)\n",
    "print('Valid: ' + valid + ' UTC')\n",
    "\n",
    "# Select the extent [min. lon, min. lat, max. lon, max. lat]\n",
    "extent = [-53.2, -44.1]\n",
    "\n",
    "\n",
    "# Read the data for a specific region\n",
    "#tmtmp, lats, lons = grb.data(lat1=extent[1],lat2=extent[3],lon1=extent[0]+360,lon2=extent[2]+360)\n",
    "tmtmp, lats, lons = grb.data(lat1=extent[1],lon1=extent[0]+360)\n",
    "\n",
    "#-----------------------------------------------------------------------------------------------------------\n",
    "# Convert from K to °C\n",
    "tmtmp = tmtmp - 273.15\n",
    "\n",
    "#-----------------------------------------------------------------------------------------------------------"
   ]
  },
  {
   "cell_type": "code",
   "execution_count": null,
   "id": "c1c261ba",
   "metadata": {},
   "outputs": [],
   "source": [
    "import xarray\n",
    "\n",
    "data = xarray.open_dataset('C:/Users/Deja/Documents/Output/gfs.t00z.pgrb2.0p50.f000', engine='cfgrib')\n",
    "data.to_netcdf('netcdf_file.nc')"
   ]
  },
  {
   "cell_type": "markdown",
   "id": "853ba786",
   "metadata": {},
   "source": [
    "## Extraindo serie temporal netCDF e salvando csv"
   ]
  },
  {
   "cell_type": "code",
   "execution_count": null,
   "id": "6e67161f",
   "metadata": {},
   "outputs": [],
   "source": [
    "from netCDF4 import Dataset\n",
    "import numpy as np\n",
    "import pandas as pd \n",
    "\n",
    "# Reading in the netCDF file\n",
    "data = Dataset(r'C:/Users/Deja/Documents/Output/1961.nc', 'r')\n",
    "\n",
    "# Storing the lat and lon data into the variables \n",
    "lat = data.variables['lat'][:]\n",
    "lon = data.variables['lon'][:]\n",
    "\n",
    "# Storing the lat and lon of Katmandu, Nepal into variables \n",
    "lat_katmandu =  27.697817\n",
    "lon_katmandu =  85.329806\n",
    "\n",
    "# Squared difference of lat and lon \n",
    "sq_diff_lat = (lat - lat_katmandu)**2\n",
    "sq_diff_lon = (lon - lon_katmandu)**2\n",
    "\n",
    "# Identifying the index of the minimum value for lat and lon \n",
    "min_index_lat = sq_diff_lat.argmin()\n",
    "min_index_lon = sq_diff_lon.argmin()\n",
    "\n",
    "temp = data.variables['tave']\n",
    "\n",
    "# Creating an empty pandas dataframe\n",
    "starting_date = data.variables['time'].units[14:24]\n",
    "ending_date = data.variables['time'].units[14:18] + '-12-31'\n",
    "date_range = pd.date_range(start = starting_date, end = ending_date)\n",
    "df = pd.DataFrame(0, columns = ['Temparature'], index = date_range)\n",
    "\n",
    "dt = np.arange(0, data.variables['time'].size)\n",
    "\n",
    "for time_index in dt:\n",
    "    df.iloc[time_index] = temp[time_index,min_index_lat ,min_index_lon]\n",
    "\n",
    "# Saving the time series into a csv\n",
    "df.to_csv('temparature_Katmandu.csv')"
   ]
  },
  {
   "cell_type": "code",
   "execution_count": null,
   "id": "eacdcc71",
   "metadata": {},
   "outputs": [],
   "source": [
    "from netCDF4 import Dataset\n",
    "import numpy as np\n",
    "\n",
    "\n",
    "# Displaying the names of the variables\n",
    "print(data.variables.keys())\n",
    "\n",
    "# Accessing the variables\n",
    "lon = data.variables['lon']\n",
    "print(lon)\n",
    "\n",
    "lat = data.variables['lat']\n",
    "print(lat)\n",
    "\n",
    "time = data.variables['time']\n",
    "print(time)\n",
    "\n",
    "tave = data.variables['tave']\n",
    "print(tave)\n",
    "\n",
    "# Accessing the data from the variables\n",
    "time_data = data.variables['time'][:]\n",
    "print(time_data)\n",
    "\n",
    "lon_data = data.variables['lon'][:]\n",
    "print(lon_data)\n",
    "\n",
    "lat_data = data.variables['lat'][:]\n",
    "print(lat_data)\n",
    "\n",
    "\n"
   ]
  }
 ],
 "metadata": {
  "kernelspec": {
   "display_name": "curso_arcgis",
   "language": "python",
   "name": "curso_arcgis"
  },
  "language_info": {
   "codemirror_mode": {
    "name": "ipython",
    "version": 3
   },
   "file_extension": ".py",
   "mimetype": "text/x-python",
   "name": "python",
   "nbconvert_exporter": "python",
   "pygments_lexer": "ipython3",
   "version": "3.9.7"
  }
 },
 "nbformat": 4,
 "nbformat_minor": 5
}
